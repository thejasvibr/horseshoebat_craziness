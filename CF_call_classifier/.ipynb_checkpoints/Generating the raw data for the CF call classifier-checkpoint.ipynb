{
 "cells": [
  {
   "cell_type": "markdown",
   "metadata": {},
   "source": [
    "This notebook records how I generate the training data for the CF call classifier. The CF call classifier takes in snippets of 200 millisecond audio recorded at 250 kHz. It outputs the horseshoe bat group size label and the species type detected.  The horseshoe groupsize label refers to the number of bats in the snippet ('none', 'single' or 'multi'). The call type detected refers to the type of species in the snippet : 'ferrumequinum', 'BlEuMe' or 'Myotis'. "
   ]
  },
  {
   "cell_type": "markdown",
   "metadata": {},
   "source": [
    "### Audio snippet :\n",
    "\n",
    "The audio snippet length is set to 200 milliseconds as this represents the smallest duration of time that can be used to reliably classify a scenario. Setting the window longer means that the changes in behaviour might be 'averaged' out, while setting it shorter means that there may not be enough calls to get a proper picture. The exact number 200 milliseconds was chosed based on Neetash (N) saying that many flight events can occur within a couple of video frames at 22 Hz, this corresponds to about ~100 milliseconds. I chose the 200 milliseconds in order to match the video time frame + to be able to get at least a couple of long *R. ferrumequinum* calls into that window. \n",
    "\n",
    "\n",
    "\n",
    "### The classification labels:\n",
    "\n",
    "#### Horseshoe group size labels:\n",
    "\n",
    "The group size refers to the numberof horseshoe bats expected to be echolocating in the snippet. \n",
    "\n",
    "'None' : Zero bats, a silent snippet, with/out  *Myotis* like FM calls\n",
    "\n",
    "'Single' : One horseshoe bat, of any species, with/out *Myotis* like calls. A snippet is considered to have single calls when there are no overlapping calls with different peak frequencies, or the 'leg's of different calls don't cross calls.  \n",
    "\n",
    "'Multiple' : $\\geq$ 2 horseshoebats of any specis, with/without *Myotis* like calls. When call peak frequencies differ and the 'legs' of calls cross each other, then it is considered to be a multi bat snippet. \n",
    "\n",
    "*Myotis* calls are not considered in the number of bats as they do not fly within the dome cave. The calls recorded are from the flying bats in the corridor leading to the exit/entrance of Orlova Chuka. \n",
    "\n",
    "####  Call type:\n",
    "The call type refers to the species or species group that emitted the calls. \n",
    "'ferrumequinum' : The calls of *Rhinolophus ferrumequinum*, with the peak CF frequency at 80 kHz. \n",
    "'BlEuMe' : The calls of either *R. blasii*, *R. euryale*, *R. mehelyi* with their peak frequencies around 100-110 kHz. \n",
    "'Myotis' : any FM like call. Most of the FM calls are emitted by the majority resident *Myotis myotis* and *Myotis blythii*\n"
   ]
  },
  {
   "cell_type": "code",
   "execution_count": 1,
   "metadata": {},
   "outputs": [],
   "source": [
    "import matplotlib.pyplot as plt\n",
    "import numpy as np \n",
    "import pandas as pd"
   ]
  },
  {
   "cell_type": "code",
   "execution_count": 2,
   "metadata": {},
   "outputs": [],
   "source": [
    "audio_labels = pd.read_csv('audio_labels.csv')"
   ]
  },
  {
   "cell_type": "code",
   "execution_count": 3,
   "metadata": {},
   "outputs": [
    {
     "data": {
      "text/html": [
       "<div>\n",
       "<style scoped>\n",
       "    .dataframe tbody tr th:only-of-type {\n",
       "        vertical-align: middle;\n",
       "    }\n",
       "\n",
       "    .dataframe tbody tr th {\n",
       "        vertical-align: top;\n",
       "    }\n",
       "\n",
       "    .dataframe thead th {\n",
       "        text-align: right;\n",
       "    }\n",
       "</style>\n",
       "<table border=\"1\" class=\"dataframe\">\n",
       "  <thead>\n",
       "    <tr style=\"text-align: right;\">\n",
       "      <th></th>\n",
       "      <th>date_recorded</th>\n",
       "      <th>file_name</th>\n",
       "      <th>time_start</th>\n",
       "      <th>time_end</th>\n",
       "      <th>duration</th>\n",
       "      <th>channel_num</th>\n",
       "      <th>groupsize_label</th>\n",
       "      <th>Ferrum_call</th>\n",
       "      <th>BlEuMi_call</th>\n",
       "      <th>Myotis_call</th>\n",
       "      <th>Unnamed: 10</th>\n",
       "    </tr>\n",
       "  </thead>\n",
       "  <tbody>\n",
       "    <tr>\n",
       "      <th>306</th>\n",
       "      <td>2018-08-19</td>\n",
       "      <td>T0000029.WAV</td>\n",
       "      <td>9.9</td>\n",
       "      <td>10.1</td>\n",
       "      <td>NaN</td>\n",
       "      <td>1</td>\n",
       "      <td>multi</td>\n",
       "      <td>1</td>\n",
       "      <td>1</td>\n",
       "      <td>0</td>\n",
       "      <td>NaN</td>\n",
       "    </tr>\n",
       "    <tr>\n",
       "      <th>307</th>\n",
       "      <td>2018-08-19</td>\n",
       "      <td>T0000035.WAV</td>\n",
       "      <td>0.9</td>\n",
       "      <td>1.1</td>\n",
       "      <td>NaN</td>\n",
       "      <td>1</td>\n",
       "      <td>single</td>\n",
       "      <td>1</td>\n",
       "      <td>0</td>\n",
       "      <td>0</td>\n",
       "      <td>NaN</td>\n",
       "    </tr>\n",
       "    <tr>\n",
       "      <th>308</th>\n",
       "      <td>2018-08-19</td>\n",
       "      <td>T0000040.WAV</td>\n",
       "      <td>51.6</td>\n",
       "      <td>51.8</td>\n",
       "      <td>NaN</td>\n",
       "      <td>0</td>\n",
       "      <td>single</td>\n",
       "      <td>0</td>\n",
       "      <td>1</td>\n",
       "      <td>1</td>\n",
       "      <td>NaN</td>\n",
       "    </tr>\n",
       "    <tr>\n",
       "      <th>309</th>\n",
       "      <td>2018-08-19</td>\n",
       "      <td>T0000057.WAV</td>\n",
       "      <td>23.2</td>\n",
       "      <td>23.4</td>\n",
       "      <td>NaN</td>\n",
       "      <td>0</td>\n",
       "      <td>multi</td>\n",
       "      <td>1</td>\n",
       "      <td>1</td>\n",
       "      <td>0</td>\n",
       "      <td>NaN</td>\n",
       "    </tr>\n",
       "    <tr>\n",
       "      <th>310</th>\n",
       "      <td>2018-08-19</td>\n",
       "      <td>T0000057.WAV</td>\n",
       "      <td>58.9</td>\n",
       "      <td>59.1</td>\n",
       "      <td>NaN</td>\n",
       "      <td>1</td>\n",
       "      <td>multi</td>\n",
       "      <td>1</td>\n",
       "      <td>1</td>\n",
       "      <td>0</td>\n",
       "      <td>NaN</td>\n",
       "    </tr>\n",
       "  </tbody>\n",
       "</table>\n",
       "</div>"
      ],
      "text/plain": [
       "    date_recorded     file_name  time_start  time_end  duration  channel_num  \\\n",
       "306    2018-08-19  T0000029.WAV         9.9      10.1       NaN            1   \n",
       "307    2018-08-19  T0000035.WAV         0.9       1.1       NaN            1   \n",
       "308    2018-08-19  T0000040.WAV        51.6      51.8       NaN            0   \n",
       "309    2018-08-19  T0000057.WAV        23.2      23.4       NaN            0   \n",
       "310    2018-08-19  T0000057.WAV        58.9      59.1       NaN            1   \n",
       "\n",
       "    groupsize_label  Ferrum_call  BlEuMi_call  Myotis_call Unnamed: 10  \n",
       "306           multi            1            1            0         NaN  \n",
       "307          single            1            0            0         NaN  \n",
       "308          single            0            1            1         NaN  \n",
       "309           multi            1            1            0         NaN  \n",
       "310           multi            1            1            0         NaN  "
      ]
     },
     "execution_count": 3,
     "metadata": {},
     "output_type": "execute_result"
    }
   ],
   "source": [
    "audio_labels.tail()"
   ]
  },
  {
   "cell_type": "code",
   "execution_count": 4,
   "metadata": {},
   "outputs": [],
   "source": [
    "%matplotlib notebook"
   ]
  },
  {
   "cell_type": "code",
   "execution_count": 5,
   "metadata": {},
   "outputs": [],
   "source": [
    "def make_combinationname(df):\n",
    "    combined = df['groupsize_label']+str(df['Ferrum_call'])+str(df['BlEuMi_call'])+str(df['Myotis_call'])\n",
    "    return(combined)"
   ]
  },
  {
   "cell_type": "code",
   "execution_count": 6,
   "metadata": {},
   "outputs": [],
   "source": [
    "audio_labels['combination_name'] = audio_labels.apply(make_combinationname,1)\n",
    "    "
   ]
  },
  {
   "cell_type": "code",
   "execution_count": 7,
   "metadata": {},
   "outputs": [
    {
     "name": "stdout",
     "output_type": "stream",
     "text": [
      "multi010     49\n",
      "single010    43\n",
      "none001      38\n",
      "single100    35\n",
      "single011    34\n",
      "none000      32\n",
      "single101    31\n",
      "multi110     23\n",
      "multi011     20\n",
      "multi111      6\n",
      "Name: combination_name, dtype: int64\n"
     ]
    }
   ],
   "source": [
    "combination_counts = audio_labels['combination_name'].value_counts()\n",
    "channel_counts = audio_labels['channel_num'].value_counts()\n",
    "file_counts = audio_labels['file_name'].value_counts()\n",
    "\n",
    "print (combination_counts)"
   ]
  },
  {
   "cell_type": "code",
   "execution_count": 8,
   "metadata": {
    "scrolled": true
   },
   "outputs": [
    {
     "name": "stdout",
     "output_type": "stream",
     "text": [
      "0    149\n",
      "1    127\n",
      "2     35\n",
      "Name: channel_num, dtype: int64\n"
     ]
    }
   ],
   "source": [
    "print(channel_counts)"
   ]
  },
  {
   "cell_type": "code",
   "execution_count": 9,
   "metadata": {},
   "outputs": [
    {
     "name": "stdout",
     "output_type": "stream",
     "text": [
      "T0000393.WAV    20\n",
      "T0000971.WAV    19\n",
      "T0000094.WAV    12\n",
      "T0000979.WAV    10\n",
      "T0000406.WAV     9\n",
      "T0000407.WAV     8\n",
      "T0000126.WAV     8\n",
      "T0000086.WAV     7\n",
      "T0000109.WAV     7\n",
      "T0000373.WAV     7\n",
      "T0000093.WAV     7\n",
      "T0000106.WAV     7\n",
      "T0000831.WAV     6\n",
      "T0000134.WAV     6\n",
      "T0000115.WAV     6\n",
      "T0000371.WAV     6\n",
      "T0000895.WAV     5\n",
      "T0000844.WAV     5\n",
      "T0000117.WAV     5\n",
      "T0000405.WAV     5\n",
      "T0000128.WAV     4\n",
      "T0000027.WAV     4\n",
      "T0000907.WAV     4\n",
      "T0000071.WAV     4\n",
      "T0000955.WAV     4\n",
      "T0000823.WAV     4\n",
      "T0000113.WAV     4\n",
      "T0000937.WAV     4\n",
      "T0000112.WAV     4\n",
      "T0000370.WAV     4\n",
      "                ..\n",
      "T0000967.WAV     1\n",
      "T0000980.WAV     1\n",
      "T0000936.WAV     1\n",
      "T0000913.WAV     1\n",
      "T0000924.WAV     1\n",
      "T0000858.WAV     1\n",
      "T0000917.WAV     1\n",
      "T0000914.WAV     1\n",
      "T0000848.WAV     1\n",
      "T0000947.WAV     1\n",
      "T0000040.WAV     1\n",
      "T0000024.WAV     1\n",
      "T0000908.WAV     1\n",
      "T0000940.WAV     1\n",
      "T0000856.WAV     1\n",
      "T0000372.WAV     1\n",
      "T0000948.WAV     1\n",
      "T0000951.WAV     1\n",
      "T0000974.WAV     1\n",
      "T0000877.WAV     1\n",
      "T0000897.WAV     1\n",
      "T0000931.WAV     1\n",
      "T0000022.WAV     1\n",
      "T0000949.WAV     1\n",
      "T0000904.WAV     1\n",
      "T0000939.WAV     1\n",
      "T0000852.WAV     1\n",
      "T0000850.WAV     1\n",
      "T0000957.WAV     1\n",
      "T0000026.WAV     1\n",
      "Name: file_name, Length: 100, dtype: int64\n"
     ]
    }
   ],
   "source": [
    "print(file_counts)"
   ]
  },
  {
   "cell_type": "code",
   "execution_count": null,
   "metadata": {},
   "outputs": [],
   "source": []
  }
 ],
 "metadata": {
  "anaconda-cloud": {},
  "kernelspec": {
   "display_name": "Python [conda env:root]",
   "language": "python",
   "name": "conda-root-py"
  },
  "language_info": {
   "codemirror_mode": {
    "name": "ipython",
    "version": 2
   },
   "file_extension": ".py",
   "mimetype": "text/x-python",
   "name": "python",
   "nbconvert_exporter": "python",
   "pygments_lexer": "ipython2",
   "version": "2.7.15"
  }
 },
 "nbformat": 4,
 "nbformat_minor": 2
}
