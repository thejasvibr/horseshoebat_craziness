{
 "cells": [
  {
   "cell_type": "markdown",
   "metadata": {},
   "source": [
    "This notebook records how I generate the training data for the CF call classifier. The CF call classifier takes in snippets of 200 millisecond audio recorded at 250 kHz. It outputs the horseshoe bat group size label and the species type detected.  The horseshoe groupsize label refers to the number of bats in the snippet ('none', 'single' or 'multi'). The call type detected refers to the type of species in the snippet : 'ferrumequinum', 'BlEuMe' or 'Myotis'. "
   ]
  },
  {
   "cell_type": "markdown",
   "metadata": {},
   "source": [
    "### Audio snippet :\n",
    "\n",
    "The audio snippet length is set to 200 milliseconds as this represents the smallest duration of time that can be used to reliably classify a scenario. Setting the window longer means that the changes in behaviour might be 'averaged' out, while setting it shorter means that there may not be enough calls to get a proper picture. The exact number 200 milliseconds was chosed based on Neetash (N) saying that many flight events can occur within a couple of video frames at 22 Hz, this corresponds to about ~100 milliseconds. I chose the 200 milliseconds in order to match the video time frame + to be able to get at least a couple of long *R. ferrumequinum* calls into that window. \n",
    "\n",
    "\n",
    "\n",
    "### The classification labels:\n",
    "\n",
    "#### Horseshoe group size labels:\n",
    "\n",
    "The group size refers to the numberof horseshoe bats expected to be echolocating in the snippet. \n",
    "\n",
    "'None' : Zero bats, a silent snippet, with/out  *Myotis* like FM calls\n",
    "\n",
    "'Single' : One horseshoe bat, of any species, with/out *Myotis* like calls. A snippet is considered to have single calls when there are no overlapping calls with different peak frequencies, or the 'leg's of different calls don't cross calls.  \n",
    "\n",
    "'Multiple' : $\\geq$ 2 horseshoebats of any specis, with/without *Myotis* like calls. When call peak frequencies differ and the 'legs' of calls cross each other, then it is considered to be a multi bat snippet. \n",
    "\n",
    "*Myotis* calls are not considered in the number of bats as they do not fly within the dome cave. The calls recorded are from the flying bats in the corridor leading to the exit/entrance of Orlova Chuka. \n",
    "\n",
    "####  Call type:\n",
    "The call type refers to the species or species group that emitted the calls. \n",
    "'ferrumequinum' : The calls of *Rhinolophus ferrumequinum*, with the peak CF frequency at 80 kHz. \n",
    "'BlEuMe' : The calls of either *R. blasii*, *R. euryale*, *R. mehelyi* with their peak frequencies around 100-110 kHz. \n",
    "'Myotis' : any FM like call. Most of the FM calls are emitted by the majority resident *Myotis myotis* and *Myotis blythii*\n"
   ]
  },
  {
   "cell_type": "code",
   "execution_count": 1,
   "metadata": {
    "collapsed": true
   },
   "outputs": [],
   "source": [
    "import matplotlib.pyplot as plt\n",
    "import numpy as np \n",
    "import pandas as pd"
   ]
  },
  {
   "cell_type": "code",
   "execution_count": 2,
   "metadata": {
    "collapsed": true
   },
   "outputs": [],
   "source": [
    "audio_labels = pd.read_csv('audio_labels.csv')"
   ]
  },
  {
   "cell_type": "code",
   "execution_count": 3,
   "metadata": {
    "collapsed": false
   },
   "outputs": [
    {
     "data": {
      "text/html": [
       "<div>\n",
       "<style>\n",
       "    .dataframe thead tr:only-child th {\n",
       "        text-align: right;\n",
       "    }\n",
       "\n",
       "    .dataframe thead th {\n",
       "        text-align: left;\n",
       "    }\n",
       "\n",
       "    .dataframe tbody tr th {\n",
       "        vertical-align: top;\n",
       "    }\n",
       "</style>\n",
       "<table border=\"1\" class=\"dataframe\">\n",
       "  <thead>\n",
       "    <tr style=\"text-align: right;\">\n",
       "      <th></th>\n",
       "      <th>date_recorded</th>\n",
       "      <th>file_name</th>\n",
       "      <th>time_start</th>\n",
       "      <th>time_end</th>\n",
       "      <th>duration</th>\n",
       "      <th>channel_num</th>\n",
       "      <th>groupsize_label</th>\n",
       "      <th>Ferrum_call</th>\n",
       "      <th>BlEuMi_call</th>\n",
       "      <th>Myotis_call</th>\n",
       "      <th>Unnamed: 10</th>\n",
       "    </tr>\n",
       "  </thead>\n",
       "  <tbody>\n",
       "    <tr>\n",
       "      <th>0</th>\n",
       "      <td>2018-08-16</td>\n",
       "      <td>T0000370.WAV</td>\n",
       "      <td>45.0</td>\n",
       "      <td>45.2</td>\n",
       "      <td>0.2</td>\n",
       "      <td>1</td>\n",
       "      <td>single</td>\n",
       "      <td>0</td>\n",
       "      <td>1</td>\n",
       "      <td>0</td>\n",
       "      <td>NaN</td>\n",
       "    </tr>\n",
       "    <tr>\n",
       "      <th>1</th>\n",
       "      <td>2018-08-16</td>\n",
       "      <td>T0000370.WAV</td>\n",
       "      <td>52.0</td>\n",
       "      <td>52.2</td>\n",
       "      <td>0.2</td>\n",
       "      <td>2</td>\n",
       "      <td>single</td>\n",
       "      <td>0</td>\n",
       "      <td>1</td>\n",
       "      <td>1</td>\n",
       "      <td>NaN</td>\n",
       "    </tr>\n",
       "    <tr>\n",
       "      <th>2</th>\n",
       "      <td>2018-08-16</td>\n",
       "      <td>T0000370.WAV</td>\n",
       "      <td>54.5</td>\n",
       "      <td>54.7</td>\n",
       "      <td>0.2</td>\n",
       "      <td>2</td>\n",
       "      <td>none</td>\n",
       "      <td>0</td>\n",
       "      <td>0</td>\n",
       "      <td>0</td>\n",
       "      <td>NaN</td>\n",
       "    </tr>\n",
       "    <tr>\n",
       "      <th>3</th>\n",
       "      <td>2018-08-16</td>\n",
       "      <td>T0000370.WAV</td>\n",
       "      <td>59.6</td>\n",
       "      <td>59.8</td>\n",
       "      <td>0.2</td>\n",
       "      <td>2</td>\n",
       "      <td>single</td>\n",
       "      <td>0</td>\n",
       "      <td>1</td>\n",
       "      <td>0</td>\n",
       "      <td>NaN</td>\n",
       "    </tr>\n",
       "    <tr>\n",
       "      <th>4</th>\n",
       "      <td>2018-08-16</td>\n",
       "      <td>T0000371.WAV</td>\n",
       "      <td>9.1</td>\n",
       "      <td>9.3</td>\n",
       "      <td>0.2</td>\n",
       "      <td>2</td>\n",
       "      <td>none</td>\n",
       "      <td>0</td>\n",
       "      <td>0</td>\n",
       "      <td>0</td>\n",
       "      <td>NaN</td>\n",
       "    </tr>\n",
       "  </tbody>\n",
       "</table>\n",
       "</div>"
      ],
      "text/plain": [
       "  date_recorded     file_name  time_start  time_end  duration  channel_num  \\\n",
       "0    2018-08-16  T0000370.WAV        45.0      45.2       0.2            1   \n",
       "1    2018-08-16  T0000370.WAV        52.0      52.2       0.2            2   \n",
       "2    2018-08-16  T0000370.WAV        54.5      54.7       0.2            2   \n",
       "3    2018-08-16  T0000370.WAV        59.6      59.8       0.2            2   \n",
       "4    2018-08-16  T0000371.WAV         9.1       9.3       0.2            2   \n",
       "\n",
       "  groupsize_label  Ferrum_call  BlEuMi_call  Myotis_call Unnamed: 10  \n",
       "0          single            0            1            0         NaN  \n",
       "1          single            0            1            1         NaN  \n",
       "2            none            0            0            0         NaN  \n",
       "3          single            0            1            0         NaN  \n",
       "4            none            0            0            0         NaN  "
      ]
     },
     "execution_count": 3,
     "metadata": {},
     "output_type": "execute_result"
    }
   ],
   "source": [
    "audio_labels.head()"
   ]
  },
  {
   "cell_type": "code",
   "execution_count": 4,
   "metadata": {
    "collapsed": true
   },
   "outputs": [],
   "source": [
    "%matplotlib notebook"
   ]
  },
  {
   "cell_type": "code",
   "execution_count": 5,
   "metadata": {
    "collapsed": true
   },
   "outputs": [],
   "source": [
    "def make_combinationname(df):\n",
    "    combined = df['groupsize_label']+str(df['Ferrum_call'])+str(df['BlEuMi_call'])+str(df['Myotis_call'])\n",
    "    return(combined)"
   ]
  },
  {
   "cell_type": "code",
   "execution_count": 6,
   "metadata": {
    "collapsed": true
   },
   "outputs": [],
   "source": [
    "audio_labels['combination_name'] = audio_labels.apply(make_combinationname,1)\n",
    "    "
   ]
  },
  {
   "cell_type": "code",
   "execution_count": 7,
   "metadata": {
    "collapsed": false
   },
   "outputs": [
    {
     "name": "stdout",
     "output_type": "stream",
     "text": [
      "single010    43\n",
      "multi010     41\n",
      "none001      36\n",
      "single100    34\n",
      "single101    30\n",
      "none000      29\n",
      "single011    27\n",
      "multi011     12\n",
      "multi110     11\n",
      "multi111      4\n",
      "Name: combination_name, dtype: int64\n"
     ]
    }
   ],
   "source": [
    "combination_counts = audio_labels['combination_name'].value_counts()\n",
    "channel_counts = audio_labels['channel_num'].value_counts()\n",
    "file_counts = audio_labels['file_name'].value_counts()\n",
    "\n",
    "print (combination_counts)"
   ]
  },
  {
   "cell_type": "code",
   "execution_count": 8,
   "metadata": {
    "collapsed": false,
    "scrolled": true
   },
   "outputs": [
    {
     "name": "stdout",
     "output_type": "stream",
     "text": [
      "0    127\n",
      "1    108\n",
      "2     32\n",
      "Name: channel_num, dtype: int64\n"
     ]
    }
   ],
   "source": [
    "print(channel_counts)"
   ]
  },
  {
   "cell_type": "code",
   "execution_count": 9,
   "metadata": {
    "collapsed": false
   },
   "outputs": [
    {
     "name": "stdout",
     "output_type": "stream",
     "text": [
      "T0000393.WAV    20\n",
      "T0000971.WAV    18\n",
      "T0000094.WAV    12\n",
      "T0000406.WAV     9\n",
      "T0000979.WAV     8\n",
      "T0000126.WAV     8\n",
      "T0000407.WAV     8\n",
      "T0000109.WAV     7\n",
      "T0000086.WAV     7\n",
      "T0000106.WAV     7\n",
      "T0000373.WAV     7\n",
      "T0000093.WAV     7\n",
      "T0000831.WAV     6\n",
      "T0000115.WAV     6\n",
      "T0000134.WAV     6\n",
      "T0000371.WAV     6\n",
      "T0000895.WAV     5\n",
      "T0000844.WAV     5\n",
      "T0000405.WAV     5\n",
      "T0000117.WAV     5\n",
      "T0000937.WAV     4\n",
      "T0000128.WAV     4\n",
      "T0000823.WAV     4\n",
      "T0000113.WAV     4\n",
      "T0000907.WAV     4\n",
      "T0000370.WAV     4\n",
      "T0000112.WAV     4\n",
      "T0000071.WAV     4\n",
      "T0000929.WAV     3\n",
      "T0000911.WAV     3\n",
      "                ..\n",
      "T0000899.WAV     2\n",
      "T0000947.WAV     1\n",
      "T0000931.WAV     1\n",
      "T0000936.WAV     1\n",
      "T0000939.WAV     1\n",
      "T0000914.WAV     1\n",
      "T0000897.WAV     1\n",
      "T0000877.WAV     1\n",
      "T0000858.WAV     1\n",
      "T0000857.WAV     1\n",
      "T0000853.WAV     1\n",
      "T0000904.WAV     1\n",
      "T0000948.WAV     1\n",
      "T0000890.WAV     1\n",
      "T0000848.WAV     1\n",
      "T0000852.WAV     1\n",
      "T0000940.WAV     1\n",
      "T0000944.WAV     1\n",
      "T0000913.WAV     1\n",
      "T0000922.WAV     1\n",
      "T0000850.WAV     1\n",
      "T0000859.WAV     1\n",
      "T0000908.WAV     1\n",
      "T0000825.WAV     1\n",
      "T0000926.WAV     1\n",
      "T0000856.WAV     1\n",
      "T0000917.WAV     1\n",
      "T0000924.WAV     1\n",
      "T0000092.WAV     1\n",
      "T0000372.WAV     1\n",
      "Name: file_name, Length: 76, dtype: int64\n"
     ]
    }
   ],
   "source": [
    "print(file_counts)"
   ]
  },
  {
   "cell_type": "code",
   "execution_count": null,
   "metadata": {
    "collapsed": true
   },
   "outputs": [],
   "source": []
  }
 ],
 "metadata": {
  "anaconda-cloud": {},
  "kernelspec": {
   "display_name": "Python [conda root]",
   "language": "python",
   "name": "conda-root-py"
  },
  "language_info": {
   "codemirror_mode": {
    "name": "ipython",
    "version": 2
   },
   "file_extension": ".py",
   "mimetype": "text/x-python",
   "name": "python",
   "nbconvert_exporter": "python",
   "pygments_lexer": "ipython2",
   "version": "2.7.12"
  }
 },
 "nbformat": 4,
 "nbformat_minor": 2
}
