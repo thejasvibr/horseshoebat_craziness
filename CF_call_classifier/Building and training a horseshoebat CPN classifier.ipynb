{
 "cells": [
  {
   "cell_type": "markdown",
   "metadata": {},
   "source": [
    "This notebook will detail how I build and train a convolutional neural network that classifies a snippet of audio by the type of bat calls and number of bats echolocating in it. "
   ]
  },
  {
   "cell_type": "code",
   "execution_count": 1,
   "metadata": {},
   "outputs": [
    {
     "name": "stderr",
     "output_type": "stream",
     "text": [
      "Using TensorFlow backend.\n"
     ]
    }
   ],
   "source": [
    "from keras import layers\n",
    "from keras import models\n",
    "from keras.utils import to_categorical\n",
    "\n",
    "import numpy as np \n",
    "import matplotlib.pyplot as plt\n",
    "plt.rcParams['agg.path.chunksize'] = 10000"
   ]
  },
  {
   "cell_type": "code",
   "execution_count": 2,
   "metadata": {},
   "outputs": [],
   "source": [
    "model = models.Sequential()\n",
    "model.add(layers.Dense(15, input_shape=(513*96,)))\n",
    "model.add(layers.Dense(10, activation='softmax'))"
   ]
  },
  {
   "cell_type": "code",
   "execution_count": 3,
   "metadata": {},
   "outputs": [
    {
     "name": "stdout",
     "output_type": "stream",
     "text": [
      "_________________________________________________________________\n",
      "Layer (type)                 Output Shape              Param #   \n",
      "=================================================================\n",
      "dense_1 (Dense)              (None, 15)                738735    \n",
      "_________________________________________________________________\n",
      "dense_2 (Dense)              (None, 10)                160       \n",
      "=================================================================\n",
      "Total params: 738,895\n",
      "Trainable params: 738,895\n",
      "Non-trainable params: 0\n",
      "_________________________________________________________________\n"
     ]
    }
   ],
   "source": [
    "model.summary()"
   ]
  },
  {
   "cell_type": "code",
   "execution_count": 4,
   "metadata": {},
   "outputs": [],
   "source": [
    "training_specgms = np.load('training_data/training_specgram.npy')\n",
    "training_labels = np.load('training_data/training__labels.npy')\n",
    "\n",
    "testing_specgms = np.load('training_data/testing_specgram.npy')\n",
    "test_labels = np.load('training_data/testing__labels.npy')"
   ]
  },
  {
   "cell_type": "code",
   "execution_count": 5,
   "metadata": {},
   "outputs": [],
   "source": [
    "train_specgms = training_specgms.reshape(training_specgms.shape[0],training_specgms.shape[1],training_specgms.shape[2],1)\n",
    "test_specgms = testing_specgms.reshape(testing_specgms.shape[0],testing_specgms.shape[1],testing_specgms.shape[2],1)"
   ]
  },
  {
   "cell_type": "code",
   "execution_count": 6,
   "metadata": {},
   "outputs": [],
   "source": [
    "convert_snippet_type_to_categorical = {'none000' : 0,\n",
    "                                       'none001' : 1,\n",
    "                                       'single010':2,\n",
    "                                       'single011':3,\n",
    "                                       'single100':4,\n",
    "                                       'single101':5,\n",
    "                                       'multi010':6,\n",
    "                                       'multi011':7,\n",
    "                                       'multi110':8,\n",
    "                                       'multi111':9 }"
   ]
  },
  {
   "cell_type": "code",
   "execution_count": 7,
   "metadata": {},
   "outputs": [],
   "source": [
    "training_numlabels = map(lambda X : convert_snippet_type_to_categorical[X], training_labels)\n",
    "testing_numlabels = map(lambda X : convert_snippet_type_to_categorical[X], test_labels)"
   ]
  },
  {
   "cell_type": "code",
   "execution_count": 8,
   "metadata": {},
   "outputs": [],
   "source": [
    "train_labels_onehot = to_categorical(training_numlabels)\n",
    "test_labels_onehot = to_categorical(testing_numlabels)"
   ]
  },
  {
   "cell_type": "code",
   "execution_count": 9,
   "metadata": {},
   "outputs": [],
   "source": [
    "# need to shuffle all the rows !! \n",
    "def shuffle_all_items(specgms, onehot_labels):\n",
    "    num_items = onehot_labels.shape[0]\n",
    "    shuf_indices = np.random.choice(range(num_items), num_items, replace=False)\n",
    "    \n",
    "    out_specgms = specgms.copy()\n",
    "    out_specgms = specgms[shuf_indices]\n",
    "    out_labels = onehot_labels[shuf_indices,:]\n",
    "    return(out_specgms, out_labels, shuf_indices)\n",
    "    "
   ]
  },
  {
   "cell_type": "code",
   "execution_count": 10,
   "metadata": {},
   "outputs": [],
   "source": [
    "train_specgm_shuf, train_onehot_shuf, si = shuffle_all_items(train_specgms, train_labels_onehot)"
   ]
  },
  {
   "cell_type": "code",
   "execution_count": 11,
   "metadata": {},
   "outputs": [
    {
     "data": {
      "text/plain": [
       "(230, 513, 96, 1)"
      ]
     },
     "execution_count": 11,
     "metadata": {},
     "output_type": "execute_result"
    }
   ],
   "source": [
    "train_specgm_shuf.shape"
   ]
  },
  {
   "cell_type": "code",
   "execution_count": 12,
   "metadata": {},
   "outputs": [
    {
     "data": {
      "text/plain": [
       "array([0., 0., 0., ..., 0., 0., 0.])"
      ]
     },
     "execution_count": 12,
     "metadata": {},
     "output_type": "execute_result"
    }
   ],
   "source": [
    "train_specgm_shuf[0].reshape(513*96)"
   ]
  },
  {
   "cell_type": "code",
   "execution_count": 13,
   "metadata": {},
   "outputs": [],
   "source": [
    "# reshape all the spectrograms:\n",
    "reshape_to_1d = lambda X : X.reshape(513*96)\n",
    "\n",
    "oned_train_specgm_shuf = np.zeros((train_specgm_shuf.shape[0], train_specgm_shuf.shape[1]*train_specgm_shuf.shape[2]))\n",
    "for i, each_im in  enumerate(train_specgm_shuf):\n",
    "    oned_train_specgm_shuf[i,:] = reshape_to_1d(each_im)\n",
    "    "
   ]
  },
  {
   "cell_type": "code",
   "execution_count": 14,
   "metadata": {},
   "outputs": [
    {
     "name": "stdout",
     "output_type": "stream",
     "text": [
      "Epoch 1/15\n",
      "230/230 [==============================] - 1s 3ms/step - loss: 2.4750 - acc: 0.2000\n",
      "Epoch 2/15\n",
      "230/230 [==============================] - 0s 1ms/step - loss: 2.2168 - acc: 0.2522\n",
      "Epoch 3/15\n",
      "230/230 [==============================] - 0s 1ms/step - loss: 2.2127 - acc: 0.2522\n",
      "Epoch 4/15\n",
      "230/230 [==============================] - 0s 1ms/step - loss: 2.2092 - acc: 0.2261\n",
      "Epoch 5/15\n",
      "230/230 [==============================] - 0s 1ms/step - loss: 2.2058 - acc: 0.2522\n",
      "Epoch 6/15\n",
      "230/230 [==============================] - 0s 1ms/step - loss: 2.2025 - acc: 0.2522\n",
      "Epoch 7/15\n",
      "230/230 [==============================] - 0s 1ms/step - loss: 2.1993 - acc: 0.2522\n",
      "Epoch 8/15\n",
      "230/230 [==============================] - 0s 1ms/step - loss: 2.1961 - acc: 0.2565\n",
      "Epoch 9/15\n",
      "230/230 [==============================] - 0s 1ms/step - loss: 2.1929 - acc: 0.2522\n",
      "Epoch 10/15\n",
      "230/230 [==============================] - 0s 1ms/step - loss: 2.1897 - acc: 0.2522\n",
      "Epoch 11/15\n",
      "230/230 [==============================] - 0s 1ms/step - loss: 2.1864 - acc: 0.2522\n",
      "Epoch 12/15\n",
      "230/230 [==============================] - 0s 1ms/step - loss: 2.1831 - acc: 0.2478\n",
      "Epoch 13/15\n",
      "230/230 [==============================] - 0s 1ms/step - loss: 2.1796 - acc: 0.2522\n",
      "Epoch 14/15\n",
      "230/230 [==============================] - 0s 1ms/step - loss: 2.1763 - acc: 0.2522\n",
      "Epoch 15/15\n",
      "230/230 [==============================] - 0s 1ms/step - loss: 2.1728 - acc: 0.2522\n"
     ]
    },
    {
     "data": {
      "text/plain": [
       "<keras.callbacks.History at 0x7fbc0858bad0>"
      ]
     },
     "execution_count": 14,
     "metadata": {},
     "output_type": "execute_result"
    }
   ],
   "source": [
    "model.compile(optimizer='rmsprop',\n",
    "              loss='categorical_crossentropy',\n",
    "              metrics=['accuracy'])\n",
    "\n",
    "model.fit(oned_train_specgm_shuf, train_onehot_shuf, epochs=15, batch_size=50)"
   ]
  },
  {
   "cell_type": "code",
   "execution_count": null,
   "metadata": {},
   "outputs": [],
   "source": []
  }
 ],
 "metadata": {
  "kernelspec": {
   "display_name": "horseshoebat",
   "language": "python",
   "name": "horseshoebat"
  },
  "language_info": {
   "codemirror_mode": {
    "name": "ipython",
    "version": 2
   },
   "file_extension": ".py",
   "mimetype": "text/x-python",
   "name": "python",
   "nbconvert_exporter": "python",
   "pygments_lexer": "ipython2",
   "version": "2.7.15"
  }
 },
 "nbformat": 4,
 "nbformat_minor": 2
}
