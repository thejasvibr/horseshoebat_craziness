{
 "cells": [
  {
   "cell_type": "markdown",
   "metadata": {},
   "source": [
    "To train a network on the mix of FM and Cf calls, I have to generate spectrograms of the audio snippets. The spectrograms also need to be normalised to have values between 0-1, which allows the network parameter estimation to run well. "
   ]
  },
  {
   "cell_type": "code",
   "execution_count": 1,
   "metadata": {},
   "outputs": [
    {
     "name": "stderr",
     "output_type": "stream",
     "text": [
      "Using TensorFlow backend.\n"
     ]
    }
   ],
   "source": [
    "from __future__ import division\n",
    "from keras.utils import to_categorical\n",
    "import matplotlib.pyplot as plt\n",
    "plt.rcParams['agg.path.chunksize'] = 10000\n",
    "import numpy as np \n",
    "import pandas as pd\n",
    "import scipy.signal as signal \n",
    "import soundfile as sf"
   ]
  },
  {
   "cell_type": "code",
   "execution_count": 2,
   "metadata": {},
   "outputs": [],
   "source": [
    "%matplotlib notebook"
   ]
  },
  {
   "cell_type": "code",
   "execution_count": 3,
   "metadata": {},
   "outputs": [],
   "source": [
    "# load the csv file\n",
    "audio_labels = pd.read_csv('audio_labels.csv')"
   ]
  },
  {
   "cell_type": "code",
   "execution_count": 4,
   "metadata": {},
   "outputs": [],
   "source": [
    "# make a column to convert groupsie labels into numeric\n",
    "text_to_int = {'none':0,\n",
    "                       'single':1,\n",
    "                       'multi':2\n",
    "                      }\n",
    "def convert_txt_to_int(X):\n",
    "    entry = X['groupsize_label']\n",
    "    return( text_to_int[entry])\n",
    "\n",
    "audio_labels['groupsize_intlabel'] = audio_labels.apply(convert_txt_to_int, 1 )"
   ]
  },
  {
   "cell_type": "code",
   "execution_count": 5,
   "metadata": {},
   "outputs": [
    {
     "data": {
      "text/html": [
       "<div>\n",
       "<style scoped>\n",
       "    .dataframe tbody tr th:only-of-type {\n",
       "        vertical-align: middle;\n",
       "    }\n",
       "\n",
       "    .dataframe tbody tr th {\n",
       "        vertical-align: top;\n",
       "    }\n",
       "\n",
       "    .dataframe thead th {\n",
       "        text-align: right;\n",
       "    }\n",
       "</style>\n",
       "<table border=\"1\" class=\"dataframe\">\n",
       "  <thead>\n",
       "    <tr style=\"text-align: right;\">\n",
       "      <th></th>\n",
       "      <th>date_recorded</th>\n",
       "      <th>file_name</th>\n",
       "      <th>time_start</th>\n",
       "      <th>time_end</th>\n",
       "      <th>duration</th>\n",
       "      <th>channel_num</th>\n",
       "      <th>groupsize_label</th>\n",
       "      <th>Ferrum_call</th>\n",
       "      <th>BlEuMi_call</th>\n",
       "      <th>Myotis_call</th>\n",
       "      <th>groupsize_intlabel</th>\n",
       "    </tr>\n",
       "  </thead>\n",
       "  <tbody>\n",
       "    <tr>\n",
       "      <th>0</th>\n",
       "      <td>2018-08-16</td>\n",
       "      <td>T0000370.WAV</td>\n",
       "      <td>45.0</td>\n",
       "      <td>45.2</td>\n",
       "      <td>0.2</td>\n",
       "      <td>1</td>\n",
       "      <td>single</td>\n",
       "      <td>0</td>\n",
       "      <td>1</td>\n",
       "      <td>0</td>\n",
       "      <td>1</td>\n",
       "    </tr>\n",
       "    <tr>\n",
       "      <th>1</th>\n",
       "      <td>2018-08-16</td>\n",
       "      <td>T0000370.WAV</td>\n",
       "      <td>52.0</td>\n",
       "      <td>52.2</td>\n",
       "      <td>0.2</td>\n",
       "      <td>2</td>\n",
       "      <td>single</td>\n",
       "      <td>0</td>\n",
       "      <td>1</td>\n",
       "      <td>1</td>\n",
       "      <td>1</td>\n",
       "    </tr>\n",
       "    <tr>\n",
       "      <th>2</th>\n",
       "      <td>2018-08-16</td>\n",
       "      <td>T0000370.WAV</td>\n",
       "      <td>54.5</td>\n",
       "      <td>54.7</td>\n",
       "      <td>0.2</td>\n",
       "      <td>2</td>\n",
       "      <td>none</td>\n",
       "      <td>0</td>\n",
       "      <td>0</td>\n",
       "      <td>0</td>\n",
       "      <td>0</td>\n",
       "    </tr>\n",
       "    <tr>\n",
       "      <th>3</th>\n",
       "      <td>2018-08-16</td>\n",
       "      <td>T0000370.WAV</td>\n",
       "      <td>59.6</td>\n",
       "      <td>59.8</td>\n",
       "      <td>0.2</td>\n",
       "      <td>2</td>\n",
       "      <td>single</td>\n",
       "      <td>0</td>\n",
       "      <td>1</td>\n",
       "      <td>0</td>\n",
       "      <td>1</td>\n",
       "    </tr>\n",
       "    <tr>\n",
       "      <th>4</th>\n",
       "      <td>2018-08-16</td>\n",
       "      <td>T0000371.WAV</td>\n",
       "      <td>9.1</td>\n",
       "      <td>9.3</td>\n",
       "      <td>0.2</td>\n",
       "      <td>2</td>\n",
       "      <td>none</td>\n",
       "      <td>0</td>\n",
       "      <td>0</td>\n",
       "      <td>0</td>\n",
       "      <td>0</td>\n",
       "    </tr>\n",
       "  </tbody>\n",
       "</table>\n",
       "</div>"
      ],
      "text/plain": [
       "  date_recorded     file_name  time_start  time_end  duration  channel_num  \\\n",
       "0    2018-08-16  T0000370.WAV        45.0      45.2       0.2            1   \n",
       "1    2018-08-16  T0000370.WAV        52.0      52.2       0.2            2   \n",
       "2    2018-08-16  T0000370.WAV        54.5      54.7       0.2            2   \n",
       "3    2018-08-16  T0000370.WAV        59.6      59.8       0.2            2   \n",
       "4    2018-08-16  T0000371.WAV         9.1       9.3       0.2            2   \n",
       "\n",
       "  groupsize_label  Ferrum_call  BlEuMi_call  Myotis_call  groupsize_intlabel  \n",
       "0          single            0            1            0                   1  \n",
       "1          single            0            1            1                   1  \n",
       "2            none            0            0            0                   0  \n",
       "3          single            0            1            0                   1  \n",
       "4            none            0            0            0                   0  "
      ]
     },
     "execution_count": 5,
     "metadata": {},
     "output_type": "execute_result"
    }
   ],
   "source": [
    "\n",
    "audio_labels.head()"
   ]
  },
  {
   "cell_type": "code",
   "execution_count": 6,
   "metadata": {},
   "outputs": [
    {
     "data": {
      "text/html": [
       "<div>\n",
       "<style scoped>\n",
       "    .dataframe tbody tr th:only-of-type {\n",
       "        vertical-align: middle;\n",
       "    }\n",
       "\n",
       "    .dataframe tbody tr th {\n",
       "        vertical-align: top;\n",
       "    }\n",
       "\n",
       "    .dataframe thead th {\n",
       "        text-align: right;\n",
       "    }\n",
       "</style>\n",
       "<table border=\"1\" class=\"dataframe\">\n",
       "  <thead>\n",
       "    <tr style=\"text-align: right;\">\n",
       "      <th></th>\n",
       "      <th>date_recorded</th>\n",
       "      <th>file_name</th>\n",
       "      <th>time_start</th>\n",
       "      <th>time_end</th>\n",
       "      <th>duration</th>\n",
       "      <th>channel_num</th>\n",
       "      <th>groupsize_label</th>\n",
       "      <th>Ferrum_call</th>\n",
       "      <th>BlEuMi_call</th>\n",
       "      <th>Myotis_call</th>\n",
       "      <th>groupsize_intlabel</th>\n",
       "    </tr>\n",
       "  </thead>\n",
       "  <tbody>\n",
       "    <tr>\n",
       "      <th>212</th>\n",
       "      <td>2018-08-18</td>\n",
       "      <td>T0000890.WAV</td>\n",
       "      <td>48.95</td>\n",
       "      <td>49.15</td>\n",
       "      <td>0.2</td>\n",
       "      <td>1</td>\n",
       "      <td>multi</td>\n",
       "      <td>0</td>\n",
       "      <td>1</td>\n",
       "      <td>1</td>\n",
       "      <td>2</td>\n",
       "    </tr>\n",
       "    <tr>\n",
       "      <th>213</th>\n",
       "      <td>2018-08-18</td>\n",
       "      <td>T0000895.WAV</td>\n",
       "      <td>18.60</td>\n",
       "      <td>18.80</td>\n",
       "      <td>0.2</td>\n",
       "      <td>2</td>\n",
       "      <td>single</td>\n",
       "      <td>0</td>\n",
       "      <td>1</td>\n",
       "      <td>0</td>\n",
       "      <td>1</td>\n",
       "    </tr>\n",
       "    <tr>\n",
       "      <th>214</th>\n",
       "      <td>2018-08-18</td>\n",
       "      <td>T0000896.WAV</td>\n",
       "      <td>5.20</td>\n",
       "      <td>5.40</td>\n",
       "      <td>0.2</td>\n",
       "      <td>0</td>\n",
       "      <td>single</td>\n",
       "      <td>1</td>\n",
       "      <td>0</td>\n",
       "      <td>0</td>\n",
       "      <td>1</td>\n",
       "    </tr>\n",
       "    <tr>\n",
       "      <th>215</th>\n",
       "      <td>2018-08-18</td>\n",
       "      <td>T0000896.WAV</td>\n",
       "      <td>5.80</td>\n",
       "      <td>6.00</td>\n",
       "      <td>0.2</td>\n",
       "      <td>0</td>\n",
       "      <td>single</td>\n",
       "      <td>1</td>\n",
       "      <td>0</td>\n",
       "      <td>1</td>\n",
       "      <td>1</td>\n",
       "    </tr>\n",
       "    <tr>\n",
       "      <th>216</th>\n",
       "      <td>2018-08-18</td>\n",
       "      <td>T0000896.WAV</td>\n",
       "      <td>37.15</td>\n",
       "      <td>37.35</td>\n",
       "      <td>0.2</td>\n",
       "      <td>1</td>\n",
       "      <td>single</td>\n",
       "      <td>0</td>\n",
       "      <td>1</td>\n",
       "      <td>0</td>\n",
       "      <td>1</td>\n",
       "    </tr>\n",
       "  </tbody>\n",
       "</table>\n",
       "</div>"
      ],
      "text/plain": [
       "    date_recorded     file_name  time_start  time_end  duration  channel_num  \\\n",
       "212    2018-08-18  T0000890.WAV       48.95     49.15       0.2            1   \n",
       "213    2018-08-18  T0000895.WAV       18.60     18.80       0.2            2   \n",
       "214    2018-08-18  T0000896.WAV        5.20      5.40       0.2            0   \n",
       "215    2018-08-18  T0000896.WAV        5.80      6.00       0.2            0   \n",
       "216    2018-08-18  T0000896.WAV       37.15     37.35       0.2            1   \n",
       "\n",
       "    groupsize_label  Ferrum_call  BlEuMi_call  Myotis_call  groupsize_intlabel  \n",
       "212           multi            0            1            1                   2  \n",
       "213          single            0            1            0                   1  \n",
       "214          single            1            0            0                   1  \n",
       "215          single            1            0            1                   1  \n",
       "216          single            0            1            0                   1  "
      ]
     },
     "execution_count": 6,
     "metadata": {},
     "output_type": "execute_result"
    }
   ],
   "source": [
    "audio_labels.tail()"
   ]
  },
  {
   "cell_type": "code",
   "execution_count": 7,
   "metadata": {},
   "outputs": [
    {
     "data": {
      "text/plain": [
       "array(['2018-08-16', '2018-08-18', '2018-08-19'], dtype=object)"
      ]
     },
     "execution_count": 7,
     "metadata": {},
     "output_type": "execute_result"
    }
   ],
   "source": [
    "audio_labels['date_recorded'].unique()"
   ]
  },
  {
   "cell_type": "code",
   "execution_count": 8,
   "metadata": {},
   "outputs": [],
   "source": [
    "folder_paths = {'2018-08-16':'/media/tbeleyur/THEJASVI_DATA_BACKUP_3/fieldwork_2018_002/horseshoe_bat/audio/2018-08-16/',\n",
    "                '2018-08-18':'/media/tbeleyur/THEJASVI_DATA_BACKUP_3/fieldwork_2018_002/horseshoe_bat/audio/2018-08-18/',\n",
    "                 '2018-08-19':'/media/tbeleyur/THEJASVI_DATA_BACKUP_3/fieldwork_2018_002/horseshoe_bat/audio/2018-08-19/ch1/'\n",
    "               }\n",
    "\n"
   ]
  },
  {
   "cell_type": "code",
   "execution_count": 9,
   "metadata": {},
   "outputs": [],
   "source": [
    "def get_audio_from_dfrow(dfrow, fs = 250000):\n",
    "    start_ind, end_ind = int(np.around(dfrow['time_start']*fs)), int(np.around((dfrow['time_start']+0.2)*fs))\n",
    "    audio, fs = sf.read(folder_paths[dfrow['date_recorded']]+dfrow['file_name'],\n",
    "                        start=start_ind, stop=end_ind+1)\n",
    "    chnum  = dfrow['channel_num']\n",
    "    audio_snippet = audio[:,chnum]\n",
    "    return(audio_snippet, fs)\n",
    "    "
   ]
  },
  {
   "cell_type": "code",
   "execution_count": 10,
   "metadata": {},
   "outputs": [],
   "source": [
    "def make_normalised_spectrogram(dfrow):\n",
    "    au, fs = get_audio_from_dfrow(dfrow)\n",
    "    f,t, S = signal.spectrogram(au, fs=fs, nperseg=1024, noverlap=512)\n",
    "    S = 20*np.log10(abs(S))\n",
    "    # normalise so values lie between 0-1\n",
    "    S *= 1/np.max(S)\n",
    "    # reshape so the array has a 1 dim 'thickness'\n",
    "    S = S.reshape(1,S.shape[0],S.shape[1])\n",
    "    return(S)"
   ]
  },
  {
   "cell_type": "code",
   "execution_count": 11,
   "metadata": {},
   "outputs": [],
   "source": [
    "def get_specgram_label(dfrow):\n",
    "    im_label = np.array([dfrow['Ferrum_call'],\n",
    "                              dfrow['BlEuMi_call'],\n",
    "                              dfrow['Myotis_call'],\n",
    "                              dfrow['groupsize_intlabel']])\n",
    "    return(im_label)\n",
    "                "
   ]
  },
  {
   "cell_type": "code",
   "execution_count": 12,
   "metadata": {},
   "outputs": [],
   "source": [
    "def make_specgram_and_label(dfrow):\n",
    "    S = make_normalised_spectrogram(dfrow)\n",
    "    label = get_specgram_label(dfrow)\n",
    "    return(S, label)"
   ]
  },
  {
   "cell_type": "code",
   "execution_count": 13,
   "metadata": {},
   "outputs": [
    {
     "name": "stdout",
     "output_type": "stream",
     "text": [
      "(1, 513, 96)\n"
     ]
    }
   ],
   "source": [
    "\n",
    "s= make_normalised_spectrogram(audio_labels.iloc[0,:])\n",
    "print(s.shape)\n"
   ]
  },
  {
   "cell_type": "markdown",
   "metadata": {},
   "source": [
    "#### Let's generate the spectrograms and labels for all of the labelled data now:"
   ]
  },
  {
   "cell_type": "code",
   "execution_count": 14,
   "metadata": {},
   "outputs": [],
   "source": [
    "all_specgrams = np.zeros((audio_labels.shape[0],513,96))\n",
    "all_labels = np.zeros((audio_labels.shape[0], 4))"
   ]
  },
  {
   "cell_type": "code",
   "execution_count": 21,
   "metadata": {},
   "outputs": [],
   "source": [
    "for i, row in audio_labels.iterrows():\n",
    "    s, label = make_specgram_and_label(row)\n",
    "    all_specgrams[i,:,:] = s\n",
    "    all_labels[i,:] = label"
   ]
  }
 ],
 "metadata": {
  "kernelspec": {
   "display_name": "horseshoebat",
   "language": "python",
   "name": "horseshoebat"
  },
  "language_info": {
   "codemirror_mode": {
    "name": "ipython",
    "version": 2
   },
   "file_extension": ".py",
   "mimetype": "text/x-python",
   "name": "python",
   "nbconvert_exporter": "python",
   "pygments_lexer": "ipython2",
   "version": "2.7.15"
  }
 },
 "nbformat": 4,
 "nbformat_minor": 2
}
